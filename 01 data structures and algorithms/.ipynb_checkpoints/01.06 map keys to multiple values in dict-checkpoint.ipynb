{
 "cells": [
  {
   "cell_type": "markdown",
   "metadata": {},
   "source": [
    "[Previous](01.05 implement a priority queue.ipynb)\n",
    "\n",
    "\n",
    "## 1.6 字典中的键映射多个值\n",
    "\n",
    "\n",
    "**问题**\n",
    "\n",
    "怎样实现一个键对应多个值的字典(也叫 `multidict` )？\n",
    "\n",
    "\n",
    "**解决方案**\n",
    "\n",
    "一个字典就是一个键对应一个单值的映射。如果你想要一个键映射多个值，那么你就需要将这多个值放到另外的容器中， 比如列表或者集合里面。比如，你可以像下面这样构造这样的字典："
   ]
  },
  {
   "cell_type": "code",
   "execution_count": 1,
   "metadata": {
    "collapsed": true
   },
   "outputs": [],
   "source": [
    "d = {\n",
    "    \"a\" : [1, 2, 3],\n",
    "    \"b\" : [4, 5]\n",
    "}\n",
    "\n",
    "e = {\n",
    "    \"a\" : {1, 2, 3},\n",
    "    \"b\" : {4, 5}\n",
    "}"
   ]
  },
  {
   "cell_type": "markdown",
   "metadata": {},
   "source": [
    "选择使用列表还是集合取决于你的实际需求。如果你想保持元素的插入顺序就应该使用列表， 如果想去掉重复元素就使用集合（并且不关心元素的顺序问题）。\n",
    "\n",
    "你可以很方便的使用 `collections` 模块中的 `defaultdict` 来构造这样的字典。 `defaultdict` 的一个特征是它会自动初始化每个 `key` 刚开始对应的值，所以你只需要关注添加元素操作了。比如："
   ]
  },
  {
   "cell_type": "code",
   "execution_count": 2,
   "metadata": {
    "collapsed": true
   },
   "outputs": [],
   "source": [
    "from collections import defaultdict\n",
    "\n",
    "d = defaultdict(list)\n",
    "d[\"a\"].append(1)\n",
    "d[\"a\"].append(2)\n",
    "d[\"b\"].append(4)\n",
    "\n",
    "d = defaultdict(set)\n",
    "d[\"a\"].add(1)\n",
    "d[\"a\"].add(2)\n",
    "d[\"b\"].add(4)"
   ]
  },
  {
   "cell_type": "markdown",
   "metadata": {},
   "source": [
    "需要注意的是， `defaultdict` 会自动为将要访问的键(就算目前字典中并不存在这样的键)创建映射实体。 如果你并不需要这样的特性，你可以在一个普通的字典上使用 `setdefault()` 方法来代替。比如："
   ]
  },
  {
   "cell_type": "code",
   "execution_count": 3,
   "metadata": {
    "collapsed": true
   },
   "outputs": [],
   "source": [
    "d = {} #A regular dictionary\n",
    "d.setdefault(\"a\", []).append(1)\n",
    "d.setdefault(\"a\", []).append(2)\n",
    "d.setdefault(\"b\", []).append(4)"
   ]
  },
  {
   "cell_type": "markdown",
   "metadata": {},
   "source": [
    "但是很多程序员觉得 `setdefault()` 用起来有点别扭。因为每次调用都得创建一个新的初始值的实例(例如程序中的空列表 `[]` )。"
   ]
  },
  {
   "cell_type": "markdown",
   "metadata": {},
   "source": [
    "**讨论**\n",
    "\n",
    "一般来讲，创建一个多值映射字典是很简单的。但是，如果你选择自己实现的话，那么对于值的初始化可能会有点麻烦， 你可能会像下面这样来实现：\n",
    "\n",
    "``` Python\n",
    "\n",
    "d = {}\n",
    "for key, value in pairs:\n",
    "    if key not in d:\n",
    "        d[key] = []\n",
    "    d[key].append(value)\n",
    "    \n",
    "```"
   ]
  },
  {
   "cell_type": "markdown",
   "metadata": {},
   "source": [
    "如果使用 `defaultdict` 的话代码就更加简洁了：\n",
    "\n",
    "``` python \n",
    "\n",
    "d = defaultdict(list)\n",
    "for key, value in pairs:\n",
    "    d[key].append(value)\n",
    "\n",
    "```"
   ]
  },
  {
   "cell_type": "markdown",
   "metadata": {},
   "source": [
    "这一小节所讨论的问题跟数据处理中的记录归类问题有大的关联。可以参考 `1.15` 小节的例子。\n",
    "\n",
    "[Next](01.07 keep dict in order.ipynb)"
   ]
  }
 ],
 "metadata": {
  "kernelspec": {
   "display_name": "Python 3",
   "language": "python",
   "name": "python3"
  },
  "language_info": {
   "codemirror_mode": {
    "name": "ipython",
    "version": 3
   },
   "file_extension": ".py",
   "mimetype": "text/x-python",
   "name": "python",
   "nbconvert_exporter": "python",
   "pygments_lexer": "ipython3",
   "version": "3.5.1"
  }
 },
 "nbformat": 4,
 "nbformat_minor": 0
}
