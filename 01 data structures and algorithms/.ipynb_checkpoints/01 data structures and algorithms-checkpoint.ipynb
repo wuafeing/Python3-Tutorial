{
 "cells": [
  {
   "cell_type": "markdown",
   "metadata": {},
   "source": [
    "# **第一章：数据结构和算法**\n",
    "\n",
    "**Python** 提供了大量的内置数据结构，包括列表，集合以及字典。大多数情况下使用这些数据结构是很简单的。但是，我们也会经常碰到到诸如查询，排序和过滤等等这些普遍存在的问题。因此，这一章的目的就是讨论这些比较常见的问题和算法。另外，我们也会给出在集合模块 `collections` 当中操作这些数据结构的方法。\n",
    "\n",
    "**`Contents:`**\n",
    "\n",
    "- [1.1 解压序列赋值给多个变量](01.01 unpack sequence into separate variables.ipynb)\n",
    "- [1.2 解压可迭代对象赋值给多个变量](01.02 unpack elements from iterables.ipynb)\n",
    "- [1.3 保留最后N个元素](01.03 keep last n items.ipynb)\n",
    "- [1.4 查找最大或最小的N个元素](01.04 find largest or smallest n items.ipynb)\n",
    "- [1.5 实现一个优先级队列](01.05 implement a priority queue.ipynb)\n",
    "- [1.6 字典中的键映射多个值](01.06 map keys to multiple values in dict.ipynb)\n",
    "- [1.7 字典排序](01.07 keep dict in order.ipynb)\n",
    "- [1.8 字典的运算](01.08 calculating with dict.ipynb)\n",
    "- [1.9 查找两字典的相同点](01.09 find commonalities in dicts.ipynb)\n",
    "- [1.10 删除序列相同元素并保持顺序](01.10 remove duplicates from seq order.ipynb)\n",
    "- [1.11 命名切片](01.11 naming slice.ipynb)\n",
    "- [1.12 序列中出现次数最多的元素](01.12 determine most freqently items in seq.ipynb)\n",
    "- [1.13 通过某个关键字排序一个字典列表](01.13 sort list of dicts by key.ipynb)\n",
    "- [1.14 排序不支持原生比较的对象](01.14 sort objects without compare support.ipynb)\n",
    "- [1.15 通过某个字段将记录分组](01.15 group records based on field.ipynb)\n",
    "- [1.16 过滤序列元素](01.16 filter sequence elements.ipynb)\n",
    "- [1.17 从字典中提取子集](01.17 extract subset of dict.ipynb)\n",
    "- [1.18 映射名称到序列元素](01.18 map names to sequence elements.ipynb)\n",
    "- [1.19 转换并同时计算数据](01.19 transform and reduce data same time.ipynb)\n",
    "- [1.20 合并多个字典或映射](01.20 combine multiple map to single map.ipynb)"
   ]
  }
 ],
 "metadata": {
  "kernelspec": {
   "display_name": "Python 3",
   "language": "python",
   "name": "python3"
  },
  "language_info": {
   "codemirror_mode": {
    "name": "ipython",
    "version": 3
   },
   "file_extension": ".py",
   "mimetype": "text/x-python",
   "name": "python",
   "nbconvert_exporter": "python",
   "pygments_lexer": "ipython3",
   "version": "3.5.1"
  }
 },
 "nbformat": 4,
 "nbformat_minor": 0
}
