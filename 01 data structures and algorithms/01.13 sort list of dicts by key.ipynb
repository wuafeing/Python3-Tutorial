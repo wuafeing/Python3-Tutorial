{
 "cells": [
  {
   "cell_type": "markdown",
   "metadata": {},
   "source": [
    "[Previous](01.12 determine most freqently items in seq.ipynb)\n",
    "\n",
    "\n",
    "## 1.13 通过某个关键字排序一个字典列表\n",
    "\n",
    "\n",
    "**问题**\n",
    "\n",
    "你有一个字典列表，你想根据某个或某几个字典字段来排序这个列表。\n",
    "\n",
    "\n",
    "**解决方案**\n",
    "\n",
    "通过使用 `operator` 模块的 `itemgetter` 函数，可以非常容易的排序这样的数据结构。 假设你从数据库中检索出来网站会员信息列表，并且以下列的数据结构返回："
   ]
  },
  {
   "cell_type": "code",
   "execution_count": 1,
   "metadata": {
    "collapsed": true
   },
   "outputs": [],
   "source": [
    "rows = [\n",
    "    {\"fname\": \"Brian\", \"lname\": \"Jones\", \"uid\": 1003},\n",
    "    {\"fname\": \"David\", \"lname\": \"Beazley\", \"uid\": 1002},\n",
    "    {\"fname\": \"John\", \"lname\": \"Cleese\", \"uid\": 1001},\n",
    "    {\"fname\": \"Big\", \"lname\": \"Jones\", \"uid\": 1004}\n",
    "]"
   ]
  },
  {
   "cell_type": "markdown",
   "metadata": {},
   "source": [
    "根据任意的字典字段来排序输入结果行是很容易实现的，代码示例："
   ]
  },
  {
   "cell_type": "code",
   "execution_count": 2,
   "metadata": {
    "collapsed": false
   },
   "outputs": [
    {
     "name": "stdout",
     "output_type": "stream",
     "text": [
      "[{'lname': 'Jones', 'fname': 'Big', 'uid': 1004}, {'lname': 'Jones', 'fname': 'Brian', 'uid': 1003}, {'lname': 'Beazley', 'fname': 'David', 'uid': 1002}, {'lname': 'Cleese', 'fname': 'John', 'uid': 1001}]\n"
     ]
    }
   ],
   "source": [
    "from operator import itemgetter\n",
    "rows_by_fname = sorted(rows, key = itemgetter(\"fname\"))\n",
    "print(rows_by_fname)"
   ]
  },
  {
   "cell_type": "code",
   "execution_count": 3,
   "metadata": {
    "collapsed": false
   },
   "outputs": [
    {
     "name": "stdout",
     "output_type": "stream",
     "text": [
      "[{'lname': 'Cleese', 'fname': 'John', 'uid': 1001}, {'lname': 'Beazley', 'fname': 'David', 'uid': 1002}, {'lname': 'Jones', 'fname': 'Brian', 'uid': 1003}, {'lname': 'Jones', 'fname': 'Big', 'uid': 1004}]\n"
     ]
    }
   ],
   "source": [
    "rows_by_uid = sorted(rows, key = itemgetter(\"uid\"))\n",
    "print(rows_by_uid)"
   ]
  },
  {
   "cell_type": "markdown",
   "metadata": {},
   "source": [
    "代码的输出如上：\n",
    "\n",
    "`itemgetter()` 函数也支持多个 `keys` ，比如下面的代码:"
   ]
  },
  {
   "cell_type": "code",
   "execution_count": 4,
   "metadata": {
    "collapsed": false
   },
   "outputs": [
    {
     "name": "stdout",
     "output_type": "stream",
     "text": [
      "[{'lname': 'Beazley', 'fname': 'David', 'uid': 1002}, {'lname': 'Cleese', 'fname': 'John', 'uid': 1001}, {'lname': 'Jones', 'fname': 'Big', 'uid': 1004}, {'lname': 'Jones', 'fname': 'Brian', 'uid': 1003}]\n"
     ]
    }
   ],
   "source": [
    "rows_by_lfname = sorted(rows, key = itemgetter(\"lname\", \"fname\"))\n",
    "print(rows_by_lfname)"
   ]
  },
  {
   "cell_type": "markdown",
   "metadata": {},
   "source": [
    "**讨论**\n",
    "\n",
    "在上面例子中， `rows` 被传递给接受一个关键字参数的 `sorted()` 内置函数。 这个参数是 `callable` 类型，并且从 `rows` 中接受一个单一元素，然后返回被用来排序的值。 `itemgetter()` 函数就是负责创建这个 `callable` 对象的。\n",
    "\n",
    "`operator.itemgetter()` 函数有一个被 `rows` 中的记录用来查找值的索引参数。可以是一个字典键名称， 一个整形值或者任何能够传入一个对象的 `__getitem__()` 方法的值。 如果你传入多个索引参数给 `itemgetter()` ，它生成的 `callable` 对象会返回一个包含所有元素值的元组， 并且 `sorted()` 函数会根据这个元组中元素顺序去排序。 但你想要同时在几个字段上面进行排序(比如通过姓和名来排序，也就是例子中的那样)的时候这种方法是很有用的。\n",
    "\n",
    "`itemgetter()` 有时候也可以用 `lambda` 表达式代替，比如："
   ]
  },
  {
   "cell_type": "code",
   "execution_count": 5,
   "metadata": {
    "collapsed": true
   },
   "outputs": [],
   "source": [
    "rows_by_fname = sorted(rows, key = lambda r: r[\"fname\"])\n",
    "rows_by_lfname = sorted(rows, key = lambda r: (r[\"lname\"], r[\"fname\"]))"
   ]
  },
  {
   "cell_type": "markdown",
   "metadata": {},
   "source": [
    "这种方案也不错。但是，使用 `itemgetter()` 方式会运行的稍微快点。因此，如果你对性能要求比较高的话就使用 `itemgetter()` 方式。\n",
    "\n",
    "最后，不要忘了这节中展示的技术也同样适用于 `min()` 和 `max()` 等函数。比如："
   ]
  },
  {
   "cell_type": "code",
   "execution_count": 6,
   "metadata": {
    "collapsed": false
   },
   "outputs": [
    {
     "data": {
      "text/plain": [
       "{'fname': 'John', 'lname': 'Cleese', 'uid': 1001}"
      ]
     },
     "execution_count": 6,
     "metadata": {},
     "output_type": "execute_result"
    }
   ],
   "source": [
    "min(rows, key = itemgetter(\"uid\"))"
   ]
  },
  {
   "cell_type": "code",
   "execution_count": 7,
   "metadata": {
    "collapsed": false
   },
   "outputs": [
    {
     "data": {
      "text/plain": [
       "{'fname': 'Big', 'lname': 'Jones', 'uid': 1004}"
      ]
     },
     "execution_count": 7,
     "metadata": {},
     "output_type": "execute_result"
    }
   ],
   "source": [
    "max(rows, key = itemgetter(\"uid\"))"
   ]
  },
  {
   "cell_type": "markdown",
   "metadata": {
    "collapsed": true
   },
   "source": [
    "[Next](01.14 sort objects without compare support.ipynb)"
   ]
  }
 ],
 "metadata": {
  "kernelspec": {
   "display_name": "Python 3",
   "language": "python",
   "name": "python3"
  },
  "language_info": {
   "codemirror_mode": {
    "name": "ipython",
    "version": 3
   },
   "file_extension": ".py",
   "mimetype": "text/x-python",
   "name": "python",
   "nbconvert_exporter": "python",
   "pygments_lexer": "ipython3",
   "version": "3.5.1"
  }
 },
 "nbformat": 4,
 "nbformat_minor": 0
}
