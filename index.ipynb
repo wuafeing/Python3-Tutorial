{
 "cells": [
  {
   "cell_type": "markdown",
   "metadata": {},
   "source": [
    "# **Python3** 入门教程 \n",
    "\n",
    "> 作者：wuafeing <br>\n",
    "> 邮件：wuafeing@gmail.com <br>\n",
    "\n",
    "Github 加载 .ipynb 的速度较慢，建议在 [Nbviewer](http://nbviewer.jupyter.org/github/wuafeing/Python3-Tutorial/blob/master/index.ipynb) 中查看该项目。"
   ]
  }
 ],
 "metadata": {
  "kernelspec": {
   "display_name": "Python 3",
   "language": "python",
   "name": "python3"
  },
  "language_info": {
   "codemirror_mode": {
    "name": "ipython",
    "version": 3
   },
   "file_extension": ".py",
   "mimetype": "text/x-python",
   "name": "python",
   "nbconvert_exporter": "python",
   "pygments_lexer": "ipython3",
   "version": "3.5.1"
  }
 },
 "nbformat": 4,
 "nbformat_minor": 0
}
