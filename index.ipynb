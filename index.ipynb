{
 "cells": [
  {
   "cell_type": "markdown",
   "metadata": {},
   "source": [
    "# **Python3** 入门教程 \n",
    "\n",
    "> 作者：wuafeing <br>\n",
    "> 邮件：wuafeing@gmail.com <br>\n",
    "\n",
    "Github 加载 .ipynb 的速度较慢，建议在 [Nbviewer](http://nbviewer.jupyter.org/github/wuafeing/Python3-Tutorial/blob/master/index.ipynb) 中查看该项目。"
   ]
  },
  {
   "cell_type": "markdown",
   "metadata": {},
   "source": [
    "## 简介 \n",
    "\n",
    "本教程来自 [Python 入门教程](http://python3-cookbook.readthedocs.io/zh_CN/latest/chapters/p01_data_structures_algorithms.html)。\n",
    "\n",
    "默认安装了 [Python 3.5](https://www.python.org/downloads/release/python-351/)，以及相关的第三方包 [ipython](http://ipython.org/install.html) 。\n",
    "\n",
    "推荐使用 [Anaconda](https://www.continuum.io/downloads)，这个 IDE 集成了大部分常用的包。\n",
    "\n",
    "笔记内容使用 **`ipython notebook`** 来展示。\n",
    "\n",
    "安装好 **`Python`** 和相应的包之后，可以在命令行下输入：\n",
    "\n",
    "    $ ipython notebook\n",
    "\n",
    "来进入 **`ipython notebook`** 。"
   ]
  },
  {
   "cell_type": "markdown",
   "metadata": {},
   "source": [
    "## 基本环境配置\n",
    "\n",
    "- 安装 [Python3.5](https://www.python.org/downloads/release/python-351/) 或者 [Anaconda](https://www.continuum.io/downloads)\n",
    "\n",
    "\n",
    "- **`Anaconda`** 更新环境\n",
    "\n",
    "    `conda update conda` <br>\n",
    "    `conda update anaconda` <br>"
   ]
  },
  {
   "cell_type": "markdown",
   "metadata": {},
   "source": [
    "## 参考\n",
    "- [Python 入门教程](http://python3-cookbook.readthedocs.io/zh_CN/latest/chapters/p01_data_structures_algorithms.html)\n",
    "- [Python 3.5.1 documentation](https://docs.python.org/3/)"
   ]
  },
  {
   "cell_type": "markdown",
   "metadata": {},
   "source": [
    "## 目录\n",
    "\n",
    "- [第一章 数据结构和算法](01 data structures and algorithms/01 data structures and algorithms.ipynb) <br>\n",
    "    - [1.1 解压序列赋值给多个变量](01 data structures and algorithms/01.01 unpack sequence into separate variables.ipynb) <br>\n",
    "    - [1.2 解压可迭代对象赋值给多个变量](01 data structures and algorithms/01.02 unpack elements from iterables.ipynb) <br>\n",
    "    - [1.3 保留最后N个元素](01 data structures and algorithms/01.03 keep last n items.ipynb) <br>\n",
    "    - [1.4 查找最大或最小的N个元素](01 data structures and algorithms/01.04 find largest or smallest n items.ipynb) <br>\n",
    "    - [1.5 实现一个优先级队列](01 data structures and algorithms/01.05 implement a priority queue.ipynb) <br>\n",
    "    - [1.6 字典中的键映射多个值](01 data structures and algorithms/01.06 map keys to multiple values in dict.ipynb) <br>\n",
    "    - [1.7 字典排序](01 data structures and algorithms/01.07 keep dict in order.ipynb) <br>\n",
    "    - [1.8 字典的运算](01 data structures and algorithms/01.08 calculating with dict.ipynb) <br>\n",
    "    - [1.9 查找两字典的相同点](01 data structures and algorithms/01.09 find commonalities in dicts.ipynb) <br>\n",
    "    - [1.10 删除序列相同元素并保持顺序](01 data structures and algorithms/01.10 remove duplicates from seq order.ipynb) <br>\n",
    "    - [1.11 命名切片](01 data structures and algorithms/01.11 naming slice.ipynb) <br>\n",
    "    - [1.12 序列中出现次数最多的元素](01 data structures and algorithms/01.12 determine most freqently items in seq.ipynb) <br>\n",
    "    - [1.13 通过某个关键字排序一个字典列表](01 data structures and algorithms/01.13 sort list of dicts by key.ipynb) <br>\n",
    "    - [1.14 排序不支持原生比较的对象](01 data structures and algorithms/01.14 sort objects without compare support.ipynb) <br>\n",
    "    - [1.15 通过某个字段将记录分组](01 data structures and algorithms/01.15 group records based on field.ipynb) <br>\n",
    "    - [1.16 过滤序列元素](01 data structures and algorithms/01.16 filter sequence elements.ipynb) <br>\n",
    "    - [1.17 从字典中提取子集](01 data structures and algorithms/01.17 extract subset of dict.ipynb) <br>\n",
    "    - [1.18 映射名称到序列元素](01 data structures and algorithms/01.18 map names to sequence elements.ipynb) <br>\n",
    "    - [1.19 转换并同时计算数据](01 data structures and algorithms/01.19 transform and reduce data same time.ipynb) <br>\n",
    "    - [1.20 合并多个字典或映射](01 data structures and algorithms/01.20 combine multiple map to single map.ipynb) <br>\n",
    "    \n",
    "- [第二章 字符串和文本](02 strings and text/02 strings and text.ipynb) <br>\n",
    "    \n"
   ]
  },
  {
   "cell_type": "code",
   "execution_count": null,
   "metadata": {
    "collapsed": true
   },
   "outputs": [],
   "source": []
  }
 ],
 "metadata": {
  "kernelspec": {
   "display_name": "Python 3",
   "language": "python",
   "name": "python3"
  },
  "language_info": {
   "codemirror_mode": {
    "name": "ipython",
    "version": 3
   },
   "file_extension": ".py",
   "mimetype": "text/x-python",
   "name": "python",
   "nbconvert_exporter": "python",
   "pygments_lexer": "ipython3",
   "version": "3.5.1"
  }
 },
 "nbformat": 4,
 "nbformat_minor": 0
}
